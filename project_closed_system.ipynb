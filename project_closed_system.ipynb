{
  "nbformat": 4,
  "nbformat_minor": 0,
  "metadata": {
    "colab": {
      "provenance": [],
      "authorship_tag": "ABX9TyNy0dpkZVRHCLy/3ytVVl4y",
      "include_colab_link": true
    },
    "kernelspec": {
      "name": "python3",
      "display_name": "Python 3"
    },
    "language_info": {
      "name": "python"
    }
  },
  "cells": [
    {
      "cell_type": "markdown",
      "metadata": {
        "id": "view-in-github",
        "colab_type": "text"
      },
      "source": [
        "<a href=\"https://colab.research.google.com/github/aditya04jain/draft_simulator/blob/main/project_closed_system.ipynb\" target=\"_parent\"><img src=\"https://colab.research.google.com/assets/colab-badge.svg\" alt=\"Open In Colab\"/></a>"
      ]
    },
    {
      "cell_type": "code",
      "execution_count": 197,
      "metadata": {
        "id": "Pnth16MkBJFK"
      },
      "outputs": [],
      "source": [
        "import random\n",
        "\n",
        "class Team():\n",
        "  def __init__(self,name,league):\n",
        "      self.name = name\n",
        "      self.league = league\n",
        "      self.wins = 0\n",
        "      self.losses = 0\n",
        "      self.draws = 0\n",
        "      self.win_factor = 0\n",
        "      self.points = 0\n",
        "\n",
        "  def set_win_factor(self,win_factor):\n",
        "      self.win_factor = win_factor\n",
        "\n",
        "  def set_record(self, wins, losses, draws, points):\n",
        "      self.wins = wins\n",
        "      self.losses = losses\n",
        "      self.draws = draws\n",
        "      self.points = points\n",
        "\n",
        "  def update_points(self):\n",
        "      self.points = self.wins * 3 + self.draws\n",
        "\n",
        "class game():\n",
        "    def __init__(self,team1,team2):\n",
        "      self.team1 = team1\n",
        "      self.team2 = team2\n",
        "\n",
        "    def play_game(self):\n",
        "\n",
        "      total_win_factor = self.team1.win_factor + self.team2.win_factor\n",
        "      team1_win_probability = self.team1.win_factor / total_win_factor\n",
        "      draw_margin = 0.03\n",
        "\n",
        "      random_result = random.random()\n",
        "\n",
        "      if abs(random_result - team1_win_probability) <= draw_margin:\n",
        "          self.team1.draws += 1\n",
        "          self.team2.draws += 1\n",
        "          ## return self.team1.name  # Team1 wins\n",
        "      elif random_result < team1_win_probability:\n",
        "          self.team1.wins += 1\n",
        "          self.team2.losses += 1\n",
        "          ## return self.team2.name  # Team2 wins\n",
        "      else:\n",
        "          self.team2.wins += 1\n",
        "          self.team1.losses += 1"
      ]
    },
    {
      "cell_type": "code",
      "source": [
        "team_list = [\n",
        "    \"Arsenal\", \"Villa\", \"Bournemouth\", \"Brentford\",\n",
        "    \"Brighton\", \"Burnley\", \"Chelsea\", \"Crystal Palace\",\n",
        "    \"Everton\", \"Fulham\", \"Liverpool\", \"Luton Town\",\n",
        "    \"Manchester City\", \"Manchester United\", \"Newcastle\",\n",
        "    \"Nottingham Forest\", \"Sheffield Utd\", \"Tottenham\",\n",
        "    \"West Ham United\", \"Wolverhampton\"\n",
        "]\n",
        "\n",
        "\n",
        "DIV1=[]\n",
        "DIV2=[]\n",
        "i = 0\n",
        "for team_name in team_list:\n",
        "  if (i < 10):\n",
        "    team_name = Team(team_name,\"DIV1\")\n",
        "    DIV1.append(team_name)\n",
        "  else:\n",
        "    team_name = Team(team_name, \"DIV2\")\n",
        "    DIV2.append(team_name)\n",
        "  i += 1\n",
        "\n",
        "for team in DIV1:\n",
        "  team.set_win_factor(0.40 + random.random() * 0.45)\n",
        "  # print(team.win_factor)\n",
        "\n",
        "for team in DIV2:\n",
        "  team.set_win_factor(0.20 + random.random() * 0.3)\n",
        "  # print(team.win_factor)"
      ],
      "metadata": {
        "id": "BiL9xJnBJ3Iw"
      },
      "execution_count": 198,
      "outputs": []
    },
    {
      "cell_type": "code",
      "source": [
        "def play_season():\n",
        "\n",
        "  for team2 in DIV1:\n",
        "    for team1 in DIV1:\n",
        "      if team2 != team1:\n",
        "        new_game = game(team2,team1)\n",
        "        new_game.play_game()\n",
        "\n",
        "  for team2 in DIV2:\n",
        "    for team1 in DIV2:\n",
        "      if team2 != team1:\n",
        "        new_game = game(team2,team1)\n",
        "        new_game.play_game()\n",
        "\n",
        "  for team in DIV1:\n",
        "    team.update_points()\n",
        "\n",
        "  for team in DIV2:\n",
        "    team.update_points()"
      ],
      "metadata": {
        "id": "jzbRxj1pPzeL"
      },
      "execution_count": 199,
      "outputs": []
    },
    {
      "cell_type": "code",
      "source": [
        "!pip install pandas\n",
        "from google.colab import files\n",
        "from IPython.display import HTML\n",
        "import pandas as pd"
      ],
      "metadata": {
        "colab": {
          "base_uri": "https://localhost:8080/"
        },
        "id": "YGEoIh2dqXNL",
        "outputId": "2e2c8047-0b4a-415b-de2b-fd3e83d53eb8"
      },
      "execution_count": 200,
      "outputs": [
        {
          "output_type": "stream",
          "name": "stdout",
          "text": [
            "Requirement already satisfied: pandas in /usr/local/lib/python3.10/dist-packages (1.5.3)\n",
            "Requirement already satisfied: python-dateutil>=2.8.1 in /usr/local/lib/python3.10/dist-packages (from pandas) (2.8.2)\n",
            "Requirement already satisfied: pytz>=2020.1 in /usr/local/lib/python3.10/dist-packages (from pandas) (2023.3.post1)\n",
            "Requirement already satisfied: numpy>=1.21.0 in /usr/local/lib/python3.10/dist-packages (from pandas) (1.23.5)\n",
            "Requirement already satisfied: six>=1.5 in /usr/local/lib/python3.10/dist-packages (from python-dateutil>=2.8.1->pandas) (1.16.0)\n"
          ]
        }
      ]
    },
    {
      "cell_type": "code",
      "source": [
        "all_seasons_rankings = pd.DataFrame()\n",
        "\n",
        "def display_team_ranking(teams_div1, teams_div2, season, all_seasons_rankings):\n",
        "    # Sorting the teams based on points, then wins, and then name as a tie-breaker for each division\n",
        "    sorted_teams_div1 = sorted(teams_div1, key=lambda x: (x.points, x.wins, x.name), reverse=True)\n",
        "    sorted_teams_div2 = sorted(teams_div2, key=lambda x: (x.points, x.wins, x.name), reverse=True)\n",
        "\n",
        "    # Create DataFrames for each division\n",
        "    data_div1 = {\n",
        "        'Rank_DIV1': [rank for rank, _ in enumerate(sorted_teams_div1, start=1)],\n",
        "        'Team_DIV1': [team.name for team in sorted_teams_div1],\n",
        "        'Wins_DIV1': [team.wins for team in sorted_teams_div1],\n",
        "        'Draws_DIV1': [team.draws for team in sorted_teams_div1],\n",
        "        'Losses_DIV1': [team.losses for team in sorted_teams_div1],\n",
        "        'Points_DIV1': [team.points for team in sorted_teams_div1],\n",
        "        'W-F_DIV1': [round(team.win_factor, 2) for team in sorted_teams_div1],\n",
        "    }\n",
        "\n",
        "    data_div2 = {\n",
        "        'Rank_DIV2': [rank for rank, _ in enumerate(sorted_teams_div2, start=1)],\n",
        "        'Team_DIV2': [team.name for team in sorted_teams_div2],\n",
        "        'Wins_DIV2': [team.wins for team in sorted_teams_div2],\n",
        "        'Draws_DIV2': [team.draws for team in sorted_teams_div2],\n",
        "        'Losses_DIV2': [team.losses for team in sorted_teams_div2],\n",
        "        'Points_DIV2': [team.points for team in sorted_teams_div2],\n",
        "        'W-F_DIV2': [round(team.win_factor, 2) for team in sorted_teams_div2],\n",
        "    }\n",
        "\n",
        "    ranking_df_div1 = pd.DataFrame(data_div1)\n",
        "    ranking_df_div2 = pd.DataFrame(data_div2)\n",
        "\n",
        "    # Create a single DataFrame by combining DIV1 and DIV2 rankings\n",
        "    combined_ranking_df = pd.concat([ranking_df_div1, ranking_df_div2], axis=1)\n",
        "    combined_ranking_df['Season'] = season  # Add a column for the season number\n",
        "\n",
        "    # Append the season's ranking to the global DataFrame with 2 empty rows for separation\n",
        "    if all_seasons_rankings.empty:\n",
        "        all_seasons_rankings = combined_ranking_df\n",
        "    else:\n",
        "        # Append with two empty rows as separators\n",
        "        empty_row = pd.DataFrame([[''] * combined_ranking_df.shape[1]], columns=combined_ranking_df.columns)\n",
        "        all_seasons_rankings = pd.concat([all_seasons_rankings, empty_row, empty_row, combined_ranking_df], ignore_index=True)\n",
        "\n",
        "    return all_seasons_rankings"
      ],
      "metadata": {
        "id": "CncbU6ckUdcJ"
      },
      "execution_count": 201,
      "outputs": []
    },
    {
      "cell_type": "code",
      "source": [
        "def post_season():\n",
        "    sorted_DIV1 = sorted(DIV1, key=lambda x: (x.points, x.wins, x.name))\n",
        "    sorted_DIV2 = sorted(DIV2, key=lambda x: (x.points, x.wins, x.name))\n",
        "\n",
        "    #bottom 3 teams in DIV1\n",
        "    #top 3 teams in DIV2\n",
        "    bottom_teams_DIV1 = sorted_DIV1[0:3]\n",
        "    top_teams_DIV2 = sorted_DIV2[-3:]\n",
        "\n",
        "    for team in sorted_DIV2:\n",
        "       if team not in top_teams_DIV2:\n",
        "        team.set_win_factor(team.win_factor+(-0.08+0.08*random.random()))\n",
        "\n",
        "    for team in sorted_DIV1:\n",
        "      if team not in bottom_teams_DIV1:\n",
        "        position = sorted_DIV1.index(team) + 1\n",
        "        factor = team.win_factor\n",
        "        team.set_win_factor(team.win_factor+draft_bump(position))\n",
        "\n",
        "    for team in bottom_teams_DIV1:\n",
        "        DIV2.append(team)\n",
        "        DIV1.remove(team)\n",
        "        team.set_win_factor(team.win_factor-(0.20*random.random()))\n",
        "\n",
        "    for team in top_teams_DIV2:\n",
        "        position = sorted_DIV2.index(team) + 1\n",
        "        DIV1.append(team)\n",
        "        DIV2.remove(team)\n",
        "        team.set_win_factor(team.win_factor+sharp_positive(position))\n",
        "\n",
        "    # reset records for next season\n",
        "    for team in DIV1 + DIV2:\n",
        "        team.set_record(0, 0, 0, 0)"
      ],
      "metadata": {
        "id": "NG3DnDa3XC2o"
      },
      "execution_count": 202,
      "outputs": []
    },
    {
      "cell_type": "code",
      "source": [
        "def sharp_positive(position):\n",
        "  return 1 / (position + (10 + 7 * random.random()))"
      ],
      "metadata": {
        "id": "0y9_qCXEDwaf"
      },
      "execution_count": 203,
      "outputs": []
    },
    {
      "cell_type": "code",
      "source": [
        "def draft_bump (position):\n",
        "  return 1 / (position + (100 + 100*random.random()))"
      ],
      "metadata": {
        "id": "lAzhPeTzQ2PG"
      },
      "execution_count": 204,
      "outputs": []
    },
    {
      "cell_type": "code",
      "source": [
        "def controller(all_seasons_rankings):\n",
        "    for season in range(1, 6):  # Simulate 5 seasons\n",
        "        play_season()\n",
        "        all_seasons_rankings = display_team_ranking(DIV1, DIV2, season, all_seasons_rankings)\n",
        "        post_season()\n",
        "\n",
        "    # Export the combined DataFrame to a CSV file\n",
        "    filename = all_seasons_rankings.to_csv('All_Seasons_Combined_Rankings.csv', index=False)\n",
        "    files.download('All_Seasons_Combined_Rankings.csv')"
      ],
      "metadata": {
        "id": "anPzabuCW94t"
      },
      "execution_count": 205,
      "outputs": []
    },
    {
      "cell_type": "code",
      "source": [
        "controller(all_seasons_rankings)"
      ],
      "metadata": {
        "colab": {
          "base_uri": "https://localhost:8080/",
          "height": 17
        },
        "id": "kzLiz00qtHvA",
        "outputId": "f81a80b5-f112-46a4-ce7a-1af462baca26"
      },
      "execution_count": 206,
      "outputs": [
        {
          "output_type": "display_data",
          "data": {
            "text/plain": [
              "<IPython.core.display.Javascript object>"
            ],
            "application/javascript": [
              "\n",
              "    async function download(id, filename, size) {\n",
              "      if (!google.colab.kernel.accessAllowed) {\n",
              "        return;\n",
              "      }\n",
              "      const div = document.createElement('div');\n",
              "      const label = document.createElement('label');\n",
              "      label.textContent = `Downloading \"${filename}\": `;\n",
              "      div.appendChild(label);\n",
              "      const progress = document.createElement('progress');\n",
              "      progress.max = size;\n",
              "      div.appendChild(progress);\n",
              "      document.body.appendChild(div);\n",
              "\n",
              "      const buffers = [];\n",
              "      let downloaded = 0;\n",
              "\n",
              "      const channel = await google.colab.kernel.comms.open(id);\n",
              "      // Send a message to notify the kernel that we're ready.\n",
              "      channel.send({})\n",
              "\n",
              "      for await (const message of channel.messages) {\n",
              "        // Send a message to notify the kernel that we're ready.\n",
              "        channel.send({})\n",
              "        if (message.buffers) {\n",
              "          for (const buffer of message.buffers) {\n",
              "            buffers.push(buffer);\n",
              "            downloaded += buffer.byteLength;\n",
              "            progress.value = downloaded;\n",
              "          }\n",
              "        }\n",
              "      }\n",
              "      const blob = new Blob(buffers, {type: 'application/binary'});\n",
              "      const a = document.createElement('a');\n",
              "      a.href = window.URL.createObjectURL(blob);\n",
              "      a.download = filename;\n",
              "      div.appendChild(a);\n",
              "      a.click();\n",
              "      div.remove();\n",
              "    }\n",
              "  "
            ]
          },
          "metadata": {}
        },
        {
          "output_type": "display_data",
          "data": {
            "text/plain": [
              "<IPython.core.display.Javascript object>"
            ],
            "application/javascript": [
              "download(\"download_cba03e6e-4f8c-4572-bf00-d9c662ad3a7d\", \"All_Seasons_Combined_Rankings.csv\", 3179)"
            ]
          },
          "metadata": {}
        }
      ]
    }
  ]
}